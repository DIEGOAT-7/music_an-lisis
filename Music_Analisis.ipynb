{
 "cells": [
  {
   "cell_type": "markdown",
   "metadata": {
    "id": "E0vqbgi9ay0H"
   },
   "source": [
    "# Déjame escuchar la música"
   ]
  },
  {
   "cell_type": "markdown",
   "metadata": {
    "id": "fhq_eyov_Zcs"
   },
   "source": [
    "# Contenido <a id='back'></a>\n",
    "\n",
    "* [Introducción](#intro)\n",
    "* [Etapa 1. Descripción de los datos](#data_review)\n",
    "    * [Conclusiones](#data_review_conclusions)\n",
    "* [Etapa 2. Preprocesamiento de datos](#data_preprocessing)\n",
    "    * [2.1 Estilo del encabezado](#header_style)\n",
    "    * [2.2 Valores ausentes](#missing_values)\n",
    "    * [2.3 Duplicados](#duplicates)\n",
    "    * [2.4 Conclusiones](#data_preprocessing_conclusions)\n",
    "* [Etapa 3. Prueba de hipótesis](#hypothesis)\n",
    "    * [3.1 Hipótesis 1: actividad de los usuarios y las usuarias en las dos ciudades](#activity)\n",
    "* [Conclusiones](#end)"
   ]
  },
  {
   "cell_type": "markdown",
   "metadata": {
    "id": "VUC88oWjTJw2"
   },
   "source": [
    "## Introducción <a id='intro'></a>\n",
    "Como analista de datos, tu trabajo consiste en analizar datos para extraer información valiosa y tomar decisiones basadas en ellos. Esto implica diferentes etapas, como la descripción general de los datos, el preprocesamiento y la prueba de hipótesis.\n",
    "\n",
    "Siempre que investigamos, necesitamos formular hipótesis que después podamos probar. A veces aceptamos estas hipótesis; otras veces, las rechazamos. Para tomar las decisiones correctas, una empresa debe ser capaz de entender si está haciendo las suposiciones correctas.\n",
    "\n",
    "En este proyecto, compararás las preferencias musicales de las ciudades de Springfield y Shelbyville. Estudiarás datos reales de transmisión de música online para probar la hipótesis a continuación y comparar el comportamiento de los usuarios y las usuarias de estas dos ciudades.\n",
    "\n",
    "### Objetivo:\n",
    "Prueba la hipótesis:\n",
    "1. La actividad de los usuarios y las usuarias difiere según el día de la semana y dependiendo de la ciudad.\n",
    "\n",
    "\n",
    "### Etapas\n",
    "Los datos del comportamiento del usuario se almacenan en el archivo `/datasets/music_project_en.csv`. No hay ninguna información sobre la calidad de los datos, así que necesitarás examinarlos antes de probar la hipótesis.\n",
    "\n",
    "Primero, evaluarás la calidad de los datos y verás si los problemas son significativos. Entonces, durante el preprocesamiento de datos, tomarás en cuenta los problemas más críticos.\n",
    "\n",
    "Tu proyecto consistirá en tres etapas:\n",
    " 1. Descripción de los datos.\n",
    " 2. Preprocesamiento de datos.\n",
    " 3. Prueba de hipótesis.\n",
    "\n",
    "\n",
    "\n",
    "\n",
    "\n",
    "\n"
   ]
  },
  {
   "cell_type": "markdown",
   "metadata": {
    "id": "hDt6pg-Rw-1U"
   },
   "source": [
    "[Volver a Contenidos](#back)"
   ]
  },
  {
   "cell_type": "markdown",
   "metadata": {
    "id": "Ml1hmfXC_Zcs"
   },
   "source": [
    "## Etapa 1. Descripción de los datos <a id='data_review'></a>\n",
    "\n",
    "Abre los datos y examínalos."
   ]
  },
  {
   "cell_type": "markdown",
   "metadata": {
    "id": "57eAOGIz_Zcs"
   },
   "source": [
    "Necesitarás `pandas`, así que impórtalo."
   ]
  },
  {
   "cell_type": "code",
   "execution_count": 1,
   "metadata": {
    "id": "AXN7PHPN_Zcs"
   },
   "outputs": [],
   "source": [
    "import pandas as pd # Importar pandas\n"
   ]
  },
  {
   "cell_type": "markdown",
   "metadata": {
    "id": "SG23P8tt_Zcs"
   },
   "source": [
    "Lee el archivo `music_project_en.csv` de la carpeta `/datasets/` y guárdalo en la variable `df`:"
   ]
  },
  {
   "cell_type": "code",
   "execution_count": 2,
   "metadata": {
    "id": "fFVu7vqh_Zct"
   },
   "outputs": [],
   "source": [
    "# Leer el archivo y almacenarlo en df\n",
    "df = pd.read_csv('/datasets/music_project_en.csv')"
   ]
  },
  {
   "cell_type": "markdown",
   "metadata": {
    "id": "rDoOMd3uTqnZ"
   },
   "source": [
    "Muestra las 10 primeras filas de la tabla:"
   ]
  },
  {
   "cell_type": "code",
   "execution_count": 3,
   "metadata": {
    "id": "oWTVX3gW_Zct"
   },
   "outputs": [
    {
     "data": {
      "text/html": [
       "<div>\n",
       "<style scoped>\n",
       "    .dataframe tbody tr th:only-of-type {\n",
       "        vertical-align: middle;\n",
       "    }\n",
       "\n",
       "    .dataframe tbody tr th {\n",
       "        vertical-align: top;\n",
       "    }\n",
       "\n",
       "    .dataframe thead th {\n",
       "        text-align: right;\n",
       "    }\n",
       "</style>\n",
       "<table border=\"1\" class=\"dataframe\">\n",
       "  <thead>\n",
       "    <tr style=\"text-align: right;\">\n",
       "      <th></th>\n",
       "      <th>userID</th>\n",
       "      <th>Track</th>\n",
       "      <th>artist</th>\n",
       "      <th>genre</th>\n",
       "      <th>City</th>\n",
       "      <th>time</th>\n",
       "      <th>Day</th>\n",
       "    </tr>\n",
       "  </thead>\n",
       "  <tbody>\n",
       "    <tr>\n",
       "      <th>0</th>\n",
       "      <td>FFB692EC</td>\n",
       "      <td>Kamigata To Boots</td>\n",
       "      <td>The Mass Missile</td>\n",
       "      <td>rock</td>\n",
       "      <td>Shelbyville</td>\n",
       "      <td>20:28:33</td>\n",
       "      <td>Wednesday</td>\n",
       "    </tr>\n",
       "    <tr>\n",
       "      <th>1</th>\n",
       "      <td>55204538</td>\n",
       "      <td>Delayed Because of Accident</td>\n",
       "      <td>Andreas Rönnberg</td>\n",
       "      <td>rock</td>\n",
       "      <td>Springfield</td>\n",
       "      <td>14:07:09</td>\n",
       "      <td>Friday</td>\n",
       "    </tr>\n",
       "    <tr>\n",
       "      <th>2</th>\n",
       "      <td>20EC38</td>\n",
       "      <td>Funiculì funiculà</td>\n",
       "      <td>Mario Lanza</td>\n",
       "      <td>pop</td>\n",
       "      <td>Shelbyville</td>\n",
       "      <td>20:58:07</td>\n",
       "      <td>Wednesday</td>\n",
       "    </tr>\n",
       "    <tr>\n",
       "      <th>3</th>\n",
       "      <td>A3DD03C9</td>\n",
       "      <td>Dragons in the Sunset</td>\n",
       "      <td>Fire + Ice</td>\n",
       "      <td>folk</td>\n",
       "      <td>Shelbyville</td>\n",
       "      <td>08:37:09</td>\n",
       "      <td>Monday</td>\n",
       "    </tr>\n",
       "    <tr>\n",
       "      <th>4</th>\n",
       "      <td>E2DC1FAE</td>\n",
       "      <td>Soul People</td>\n",
       "      <td>Space Echo</td>\n",
       "      <td>dance</td>\n",
       "      <td>Springfield</td>\n",
       "      <td>08:34:34</td>\n",
       "      <td>Monday</td>\n",
       "    </tr>\n",
       "    <tr>\n",
       "      <th>5</th>\n",
       "      <td>842029A1</td>\n",
       "      <td>Chains</td>\n",
       "      <td>Obladaet</td>\n",
       "      <td>rusrap</td>\n",
       "      <td>Shelbyville</td>\n",
       "      <td>13:09:41</td>\n",
       "      <td>Friday</td>\n",
       "    </tr>\n",
       "    <tr>\n",
       "      <th>6</th>\n",
       "      <td>4CB90AA5</td>\n",
       "      <td>True</td>\n",
       "      <td>Roman Messer</td>\n",
       "      <td>dance</td>\n",
       "      <td>Springfield</td>\n",
       "      <td>13:00:07</td>\n",
       "      <td>Wednesday</td>\n",
       "    </tr>\n",
       "    <tr>\n",
       "      <th>7</th>\n",
       "      <td>F03E1C1F</td>\n",
       "      <td>Feeling This Way</td>\n",
       "      <td>Polina Griffith</td>\n",
       "      <td>dance</td>\n",
       "      <td>Springfield</td>\n",
       "      <td>20:47:49</td>\n",
       "      <td>Wednesday</td>\n",
       "    </tr>\n",
       "    <tr>\n",
       "      <th>8</th>\n",
       "      <td>8FA1D3BE</td>\n",
       "      <td>L’estate</td>\n",
       "      <td>Julia Dalia</td>\n",
       "      <td>ruspop</td>\n",
       "      <td>Springfield</td>\n",
       "      <td>09:17:40</td>\n",
       "      <td>Friday</td>\n",
       "    </tr>\n",
       "    <tr>\n",
       "      <th>9</th>\n",
       "      <td>E772D5C0</td>\n",
       "      <td>Pessimist</td>\n",
       "      <td>NaN</td>\n",
       "      <td>dance</td>\n",
       "      <td>Shelbyville</td>\n",
       "      <td>21:20:49</td>\n",
       "      <td>Wednesday</td>\n",
       "    </tr>\n",
       "  </tbody>\n",
       "</table>\n",
       "</div>"
      ],
      "text/plain": [
       "     userID                        Track            artist   genre  \\\n",
       "0  FFB692EC            Kamigata To Boots  The Mass Missile    rock   \n",
       "1  55204538  Delayed Because of Accident  Andreas Rönnberg    rock   \n",
       "2    20EC38            Funiculì funiculà       Mario Lanza     pop   \n",
       "3  A3DD03C9        Dragons in the Sunset        Fire + Ice    folk   \n",
       "4  E2DC1FAE                  Soul People        Space Echo   dance   \n",
       "5  842029A1                       Chains          Obladaet  rusrap   \n",
       "6  4CB90AA5                         True      Roman Messer   dance   \n",
       "7  F03E1C1F             Feeling This Way   Polina Griffith   dance   \n",
       "8  8FA1D3BE                     L’estate       Julia Dalia  ruspop   \n",
       "9  E772D5C0                    Pessimist               NaN   dance   \n",
       "\n",
       "        City        time        Day  \n",
       "0  Shelbyville  20:28:33  Wednesday  \n",
       "1  Springfield  14:07:09     Friday  \n",
       "2  Shelbyville  20:58:07  Wednesday  \n",
       "3  Shelbyville  08:37:09     Monday  \n",
       "4  Springfield  08:34:34     Monday  \n",
       "5  Shelbyville  13:09:41     Friday  \n",
       "6  Springfield  13:00:07  Wednesday  \n",
       "7  Springfield  20:47:49  Wednesday  \n",
       "8  Springfield  09:17:40     Friday  \n",
       "9  Shelbyville  21:20:49  Wednesday  "
      ]
     },
     "execution_count": 3,
     "metadata": {},
     "output_type": "execute_result"
    }
   ],
   "source": [
    "# Obtener las 10 primeras filas de la tabla df\n",
    "df.head(10)"
   ]
  },
  {
   "cell_type": "markdown",
   "metadata": {
    "id": "EO73Kwic_Zct"
   },
   "source": [
    "Obtén la información general sobre la tabla con un comando. Conoces el método que muestra la información general que necesitamos."
   ]
  },
  {
   "cell_type": "code",
   "execution_count": 4,
   "metadata": {
    "id": "DSf2kIb-_Zct"
   },
   "outputs": [
    {
     "name": "stdout",
     "output_type": "stream",
     "text": [
      "<class 'pandas.core.frame.DataFrame'>\n",
      "RangeIndex: 65079 entries, 0 to 65078\n",
      "Data columns (total 7 columns):\n",
      " #   Column    Non-Null Count  Dtype \n",
      "---  ------    --------------  ----- \n",
      " 0     userID  65079 non-null  object\n",
      " 1   Track     63736 non-null  object\n",
      " 2   artist    57512 non-null  object\n",
      " 3   genre     63881 non-null  object\n",
      " 4     City    65079 non-null  object\n",
      " 5   time      65079 non-null  object\n",
      " 6   Day       65079 non-null  object\n",
      "dtypes: object(7)\n",
      "memory usage: 3.5+ MB\n"
     ]
    }
   ],
   "source": [
    "# Obtener la información general sobre nuestros datos\n",
    "df.info()"
   ]
  },
  {
   "cell_type": "markdown",
   "metadata": {
    "id": "TaQ2Iwbr_Zct"
   },
   "source": [
    "Estas son nuestras observaciones sobre la tabla. Contiene siete columnas. Almacenan los mismos tipos de datos: `object`.\n",
    "\n",
    "Según la documentación:\n",
    "- `' userID'`: identificador del usuario o la usuaria;\n",
    "- `'Track'`: título de la canción;\n",
    "- `'artist'`: nombre del artista;\n",
    "- `'genre'`: género de la pista;\n",
    "- `'City'`: ciudad del usuario o la usuaria;\n",
    "- `'time'`: la hora exacta en la que se reprodujo la canción;\n",
    "- `'Day'`: día de la semana.\n",
    "\n",
    "Podemos ver tres problemas con el estilo en los encabezados de la tabla:\n",
    "1. Algunos encabezados están en mayúsculas, otros en minúsculas.\n",
    "2. Hay espacios en algunos encabezados.\n",
    "\n",
    "\n",
    "`Detecta el tercer problema por tu cuenta y descríbelo aquí`.\n",
    "3. Hay algunos valores ausentes en las columnas 'Track', 'artist' y 'genre' y tal vez tenga algun tipo de dato incorrecto.\n",
    "\n",
    "\n"
   ]
  },
  {
   "cell_type": "markdown",
   "metadata": {
    "id": "MCB6-dXG_Zct"
   },
   "source": [
    "### Escribe observaciones de tu parte. Estas son algunas de las preguntas que pueden ser útiles: <a id='data_review_conclusions'></a>\n",
    "\n",
    "`1.   ¿Qué tipo de datos tenemos a nuestra disposición en las filas? ¿Y cómo podemos entender lo que almacenan las columnas?`\n",
    "\n",
    "`2.   ¿Hay suficientes datos para proporcionar respuestas a nuestra hipótesis o necesitamos más información?`\n",
    "\n",
    "`3.   ¿Notaste algún problema en los datos, como valores ausentes, duplicados o tipos de datos incorrectos?`\n",
    "\n",
    "---\n",
    "# Mis observaciones:\n",
    "\n",
    "1. Todas las columnas tienen tipos de datos 'object' y tenemos columnas como 'City'-'Day'-'time' \n",
    "que son indispensables para el analisis que queremos realizar.\n",
    "\n",
    "2. Tenemos suficientes datos para hacer un buen analisis, sin embargo hay algunos valores ausentes\n",
    "en las columnas 'Track', 'artist' y 'genre' los cuales debemos procesar para tener un analsis acertado.\n",
    "\n",
    "3. tenderemos que revisar si tenemos duplicados y duplicados implicitos, luego trabajarlos y tal vez debamos \n",
    "corregir algun tipo de dato incorrecto."
   ]
  },
  {
   "cell_type": "markdown",
   "metadata": {
    "id": "3eL__vcwViOi"
   },
   "source": [
    "[Volver a Contenidos](#back)"
   ]
  },
  {
   "cell_type": "markdown",
   "metadata": {
    "id": "SjYF6Ub9_Zct"
   },
   "source": [
    "## Etapa 2. Preprocesamiento de datos <a id='data_preprocessing'></a>\n",
    "\n",
    "El objetivo aquí es preparar los datos para que sean analizados.\n",
    "El primer paso es resolver cualquier problema con los encabezados. Luego podemos avanzar a los valores ausentes y duplicados. Empecemos.\n",
    "\n",
    "Corrige el formato en los encabezados de la tabla.\n"
   ]
  },
  {
   "cell_type": "markdown",
   "metadata": {
    "id": "dIaKXr29_Zct"
   },
   "source": [
    "### Estilo del encabezado <a id='header_style'></a>\n",
    "Muestra los encabezados de la tabla (los nombres de las columnas):"
   ]
  },
  {
   "cell_type": "code",
   "execution_count": 5,
   "metadata": {
    "id": "oKOTdF_Q_Zct"
   },
   "outputs": [
    {
     "name": "stdout",
     "output_type": "stream",
     "text": [
      "Index(['  userID', 'Track', 'artist', 'genre', '  City  ', 'time', 'Day'], dtype='object')\n"
     ]
    }
   ],
   "source": [
    "print(df.columns)# Muestra los nombres de las columnas\n"
   ]
  },
  {
   "cell_type": "markdown",
   "metadata": {
    "id": "zj5534cv_Zct"
   },
   "source": [
    "Cambia los encabezados de la tabla de acuerdo con las reglas del buen estilo:\n",
    "* Todos los caracteres deben ser minúsculas.\n",
    "* Elimina los espacios.\n",
    "* Si el nombre tiene varias palabras, utiliza snake_case."
   ]
  },
  {
   "cell_type": "markdown",
   "metadata": {
    "id": "Xu0zkfe5zNJe"
   },
   "source": [
    "Anteriormente, aprendiste acerca de la forma automática de cambiar el nombre de las columnas. Vamos a aplicarla ahora. Utiliza el bucle for para iterar sobre los nombres de las columnas y poner todos los caracteres en minúsculas. Cuando hayas terminado, vuelve a mostrar los encabezados de la tabla:"
   ]
  },
  {
   "cell_type": "code",
   "execution_count": 6,
   "metadata": {
    "id": "6I_RwwMhzM4e"
   },
   "outputs": [
    {
     "name": "stdout",
     "output_type": "stream",
     "text": [
      "Index(['  userid', 'track', 'artist', 'genre', '  city  ', 'time', 'day'], dtype='object')\n"
     ]
    }
   ],
   "source": [
    "new_names = []\n",
    "\n",
    "for old_names in df.columns: \n",
    "    lowered_names = old_names.lower()\n",
    "    new_names.append(lowered_names)\n",
    "    \n",
    "df.columns = new_names\n",
    "print(df.columns)# Bucle en los encabezados poniendo todo en minúsculas\n"
   ]
  },
  {
   "cell_type": "markdown",
   "metadata": {
    "id": "pweIRxjSzPYW"
   },
   "source": [
    "Ahora, utilizando el mismo método, elimina los espacios al principio y al final de los nombres de las columnas e imprime los nombres de las columnas nuevamente:"
   ]
  },
  {
   "cell_type": "code",
   "execution_count": 7,
   "metadata": {
    "id": "vVQXbFyJzSYl"
   },
   "outputs": [
    {
     "name": "stdout",
     "output_type": "stream",
     "text": [
      "Index(['userid', 'track', 'artist', 'genre', 'city', 'time', 'day'], dtype='object')\n"
     ]
    }
   ],
   "source": [
    "new_names = []\n",
    "\n",
    "for old_names in df.columns: \n",
    "    strip_names = old_names.strip()\n",
    "    new_names.append(strip_names)\n",
    "    \n",
    "df.columns = new_names\n",
    "print(df.columns)# Bucle en los encabezados eliminando los espacios\n"
   ]
  },
  {
   "cell_type": "markdown",
   "metadata": {
    "id": "yCb8MW1JzURd"
   },
   "source": [
    "Necesitamos aplicar la regla de snake_case a la columna `userid`. Debe ser `user_id`. Cambia el nombre de esta columna y muestra los nombres de todas las columnas cuando hayas terminado."
   ]
  },
  {
   "cell_type": "code",
   "execution_count": 8,
   "metadata": {
    "id": "ISlFqs5y_Zct"
   },
   "outputs": [
    {
     "name": "stdout",
     "output_type": "stream",
     "text": [
      "Index(['user_id', 'track', 'artist', 'genre', 'city', 'time', 'day'], dtype='object')\n"
     ]
    }
   ],
   "source": [
    "# Cambiar el nombre de la columna \"userid\"\n",
    "snake_case = {'userid': 'user_id' }\n",
    "\n",
    "df = df.rename(columns = snake_case)\n",
    "print(df.columns)"
   ]
  },
  {
   "cell_type": "markdown",
   "metadata": {
    "id": "1dqbh00J_Zct"
   },
   "source": [
    "Comprueba el resultado. Muestra los encabezados una vez más:"
   ]
  },
  {
   "cell_type": "code",
   "execution_count": 9,
   "metadata": {
    "id": "d4NOAmTW_Zct"
   },
   "outputs": [
    {
     "name": "stdout",
     "output_type": "stream",
     "text": [
      "Index(['user_id', 'track', 'artist', 'genre', 'city', 'time', 'day'], dtype='object')\n"
     ]
    }
   ],
   "source": [
    "# Comprobar el resultado: la lista de encabezados\n",
    "print(df.columns)"
   ]
  },
  {
   "cell_type": "markdown",
   "metadata": {
    "id": "xYJk6ksJVpOl"
   },
   "source": [
    "[Volver a Contenidos](#back)"
   ]
  },
  {
   "cell_type": "markdown",
   "metadata": {
    "id": "5ISfbcfY_Zct"
   },
   "source": [
    "### Valores ausentes <a id='missing_values'></a>\n",
    " Primero, encuentra el número de valores ausentes en la tabla. Debes utilizar dos métodos en una secuencia para obtener el número de valores ausentes."
   ]
  },
  {
   "cell_type": "code",
   "execution_count": 10,
   "metadata": {
    "id": "RskX29qr_Zct"
   },
   "outputs": [
    {
     "name": "stdout",
     "output_type": "stream",
     "text": [
      "user_id       0\n",
      "track      1343\n",
      "artist     7567\n",
      "genre      1198\n",
      "city          0\n",
      "time          0\n",
      "day           0\n",
      "dtype: int64\n"
     ]
    }
   ],
   "source": [
    "# Calcular el número de valores ausentes\n",
    "print(df.isna().sum())"
   ]
  },
  {
   "cell_type": "markdown",
   "metadata": {
    "id": "qubhgnlO_Zct"
   },
   "source": [
    "No todos los valores ausentes afectan a la investigación. Por ejemplo, los valores ausentes en `track` y `artist` no son cruciales. Simplemente puedes reemplazarlos con valores predeterminados como el string `'unknown'` (desconocido).\n",
    "\n",
    "Pero los valores ausentes en `'genre'` pueden afectar la comparación entre las preferencias musicales de Springfield y Shelbyville. En la vida real, sería útil saber las razones por las cuales hay datos ausentes e intentar recuperarlos. Pero no tenemos esa oportunidad en este proyecto. Así que tendrás que:\n",
    "* rellenar estos valores ausentes con un valor predeterminado;\n",
    "* evaluar cuánto podrían afectar los valores ausentes a tus cómputos;"
   ]
  },
  {
   "cell_type": "markdown",
   "metadata": {
    "id": "fSv2laPA_Zct"
   },
   "source": [
    "Reemplazar los valores ausentes en las columnas `'track'`, `'artist'` y `'genre'` con el string `'unknown'`. Como mostramos anteriormente en las lecciones, la mejor forma de hacerlo es crear una lista que almacene los nombres de las columnas donde se necesita el reemplazo. Luego, utiliza esta lista e itera sobre las columnas donde se necesita el reemplazo haciendo el propio reemplazo."
   ]
  },
  {
   "cell_type": "code",
   "execution_count": 11,
   "metadata": {
    "id": "KplB5qWs_Zct"
   },
   "outputs": [],
   "source": [
    "# Bucle en los encabezados reemplazando los valores ausentes con 'unknown'\n",
    "columns_to_replace = ['genre', 'artist', 'track']\n",
    "\n",
    "for col in columns_to_replace:\n",
    "\tdf[col].fillna('unknown', inplace=True)\n"
   ]
  },
  {
   "cell_type": "markdown",
   "metadata": {
    "id": "Ilsm-MZo_Zct"
   },
   "source": [
    "Ahora comprueba el resultado para asegurarte de que después del reemplazo no haya valores ausentes en el conjunto de datos. Para hacer esto, cuenta los valores ausentes nuevamente."
   ]
  },
  {
   "cell_type": "code",
   "execution_count": 12,
   "metadata": {
    "id": "Tq4nYRX4_Zct"
   },
   "outputs": [
    {
     "name": "stdout",
     "output_type": "stream",
     "text": [
      "user_id    0\n",
      "track      0\n",
      "artist     0\n",
      "genre      0\n",
      "city       0\n",
      "time       0\n",
      "day        0\n",
      "dtype: int64\n"
     ]
    }
   ],
   "source": [
    "# Contar valores ausentes\n",
    "print(df.isna().sum())"
   ]
  },
  {
   "cell_type": "markdown",
   "metadata": {
    "id": "74ZIBmq9VrsK"
   },
   "source": [
    "[Volver a Contenidos](#back)"
   ]
  },
  {
   "cell_type": "markdown",
   "metadata": {
    "id": "BWKRtBJ3_Zct"
   },
   "source": [
    "### Duplicados <a id='duplicates'></a>\n",
    "Encuentra el número de duplicados explícitos en la tabla. Una vez más, debes aplicar dos métodos en una secuencia para obtener la cantidad de duplicados explícitos."
   ]
  },
  {
   "cell_type": "code",
   "execution_count": 13,
   "metadata": {
    "id": "36eES_S0_Zct"
   },
   "outputs": [
    {
     "name": "stdout",
     "output_type": "stream",
     "text": [
      "3826\n"
     ]
    }
   ],
   "source": [
    "# Contar duplicados explícitos\n",
    "print(df.duplicated().sum())"
   ]
  },
  {
   "cell_type": "markdown",
   "metadata": {
    "id": "Ot25h6XR_Zct"
   },
   "source": [
    "Ahora, elimina todos los duplicados. Para ello, llama al método que hace exactamente esto."
   ]
  },
  {
   "cell_type": "code",
   "execution_count": 14,
   "metadata": {
    "id": "exFHq6tt_Zct"
   },
   "outputs": [],
   "source": [
    "# Eliminar duplicados explícitos\n",
    "df = df.drop_duplicates().reset_index(drop=True)"
   ]
  },
  {
   "cell_type": "markdown",
   "metadata": {
    "id": "Im2YwBEG_Zct"
   },
   "source": [
    "Comprobemos ahora si eliminamos con éxito todos los duplicados. Cuenta los duplicados explícitos una vez más para asegurarte de haberlos eliminado todos:"
   ]
  },
  {
   "cell_type": "code",
   "execution_count": 15,
   "metadata": {
    "id": "-8PuNWQ0_Zct"
   },
   "outputs": [
    {
     "name": "stdout",
     "output_type": "stream",
     "text": [
      "0\n"
     ]
    }
   ],
   "source": [
    "# Comprobar de nuevo si hay duplicados\n",
    "print(df.duplicated().sum())"
   ]
  },
  {
   "cell_type": "markdown",
   "metadata": {
    "id": "QlFBsxAr_Zct"
   },
   "source": [
    "Ahora queremos deshacernos de los duplicados implícitos en la columna `genre`. Por ejemplo, el nombre de un género se puede escribir de varias formas. Dichos errores también pueden afectar al resultado."
   ]
  },
  {
   "cell_type": "markdown",
   "metadata": {
    "id": "eSjWwsOh_Zct"
   },
   "source": [
    "Para hacerlo, primero mostremos una lista de nombres de género únicos, ordenados en orden alfabético. Para ello:\n",
    "* Extrae la columna `genre` del DataFrame.\n",
    "* Llama al método que devolverá todos los valores únicos en la columna extraída.\n"
   ]
  },
  {
   "cell_type": "code",
   "execution_count": 16,
   "metadata": {
    "id": "JIUcqzZN_Zct"
   },
   "outputs": [
    {
     "name": "stdout",
     "output_type": "stream",
     "text": [
      "['rock' 'pop' 'folk' 'dance' 'rusrap' 'ruspop' 'world' 'electronic'\n",
      " 'unknown' 'alternative' 'children' 'rnb' 'hip' 'jazz' 'postrock' 'latin'\n",
      " 'classical' 'metal' 'reggae' 'triphop' 'blues' 'instrumental' 'rusrock'\n",
      " 'dnb' 'türk' 'post' 'country' 'psychedelic' 'conjazz' 'indie'\n",
      " 'posthardcore' 'local' 'avantgarde' 'punk' 'videogame' 'techno' 'house'\n",
      " 'christmas' 'melodic' 'caucasian' 'reggaeton' 'soundtrack' 'singer' 'ska'\n",
      " 'salsa' 'ambient' 'film' 'western' 'rap' 'beats' \"hard'n'heavy\"\n",
      " 'progmetal' 'minimal' 'tropical' 'contemporary' 'new' 'soul' 'holiday'\n",
      " 'german' 'jpop' 'spiritual' 'urban' 'gospel' 'nujazz' 'folkmetal'\n",
      " 'trance' 'miscellaneous' 'anime' 'hardcore' 'progressive' 'korean'\n",
      " 'numetal' 'vocal' 'estrada' 'tango' 'loungeelectronic' 'classicmetal'\n",
      " 'dubstep' 'club' 'deep' 'southern' 'black' 'folkrock' 'fitness' 'french'\n",
      " 'disco' 'religious' 'hiphop' 'drum' 'extrememetal' 'türkçe'\n",
      " 'experimental' 'easy' 'metalcore' 'modern' 'argentinetango' 'old' 'swing'\n",
      " 'breaks' 'eurofolk' 'stonerrock' 'industrial' 'funk' 'middle' 'variété'\n",
      " 'other' 'adult' 'christian' 'thrash' 'gothic' 'international' 'muslim'\n",
      " 'relax' 'schlager' 'caribbean' 'nu' 'breakbeat' 'comedy' 'chill' 'newage'\n",
      " 'specialty' 'uzbek' 'k-pop' 'balkan' 'chinese' 'meditative' 'dub' 'power'\n",
      " 'death' 'grime' 'arabesk' 'romance' 'flamenco' 'leftfield' 'european'\n",
      " 'tech' 'newwave' 'dancehall' 'mpb' 'piano' 'top' 'bigroom' 'opera'\n",
      " 'celtic' 'tradjazz' 'acoustic' 'epicmetal' 'hip-hop' 'historisch'\n",
      " 'downbeat' 'downtempo' 'africa' 'audiobook' 'jewish' 'sängerportrait'\n",
      " 'deutschrock' 'eastern' 'action' 'future' 'electropop' 'folklore'\n",
      " 'bollywood' 'marschmusik' 'rnr' 'karaoke' 'indian' 'rancheras'\n",
      " 'afrikaans' 'rhythm' 'sound' 'deutschspr' 'trip' 'lovers' 'choral'\n",
      " 'dancepop' 'retro' 'smooth' 'mexican' 'brazilian' 'ïîï' 'mood' 'surf'\n",
      " 'gangsta' 'inspirational' 'idm' 'ethnic' 'bluegrass' 'broadway'\n",
      " 'animated' 'americana' 'karadeniz' 'rockabilly' 'colombian' 'self' 'hop'\n",
      " 'sertanejo' 'japanese' 'canzone' 'lounge' 'sport' 'ragga' 'traditional'\n",
      " 'gitarre' 'frankreich' 'emo' 'laiko' 'cantopop' 'glitch' 'documentary'\n",
      " 'oceania' 'popeurodance' 'dark' 'vi' 'grunge' 'hardstyle' 'samba'\n",
      " 'garage' 'art' 'folktronica' 'entehno' 'mediterranean' 'chamber' 'cuban'\n",
      " 'taraftar' 'gypsy' 'hardtechno' 'shoegazing' 'bossa' 'latino' 'worldbeat'\n",
      " 'malaysian' 'baile' 'ghazal' 'arabic' 'popelectronic' 'acid' 'kayokyoku'\n",
      " 'neoklassik' 'tribal' 'tanzorchester' 'native' 'independent' 'cantautori'\n",
      " 'handsup' 'punjabi' 'synthpop' 'rave' 'französisch' 'quebecois' 'speech'\n",
      " 'soulful' 'jam' 'ram' 'horror' 'orchestral' 'neue' 'roots' 'slow'\n",
      " 'jungle' 'indipop' 'axé' 'fado' 'showtunes' 'arena' 'irish' 'mandopop'\n",
      " 'forró' 'dirty' 'regional']\n",
      "\n",
      "269\n"
     ]
    }
   ],
   "source": [
    "# Inspeccionar los nombres de géneros únicos\n",
    "print(df['genre'].unique())\n",
    "print()\n",
    "print(df['genre'].nunique())"
   ]
  },
  {
   "cell_type": "markdown",
   "metadata": {
    "id": "qej-Qmuo_Zct"
   },
   "source": [
    "Busca en la lista para encontrar duplicados implícitos del género `hiphop`. Estos pueden ser nombres escritos incorrectamente o nombres alternativos para el mismo género.\n",
    "\n",
    "Verás los siguientes duplicados implícitos:\n",
    "* `hip`\n",
    "* `hop`\n",
    "* `hip-hop`\n",
    "\n",
    "Para deshacerte de ellos, crea una función llamada `replace_wrong_genres()` con dos parámetros:\n",
    "* `wrong_genres=`: esta es una lista que contiene todos los valores que necesitas reemplazar.\n",
    "* `correct_genre=`: este es un string que vas a utilizar como reemplazo.\n",
    "\n",
    "Como resultado, la función debería corregir los nombres en la columna `'genre'` de la tabla `df`, es decir, remplazar cada valor de la lista `wrong_genres` por el valor en `correct_genre`.\n",
    "\n",
    "Dentro del cuerpo de la función, utiliza un bucle `'for'` para iterar sobre la lista de géneros incorrectos, extrae la columna `'genre'` y aplica el método `replace` para hacer correcciones."
   ]
  },
  {
   "cell_type": "code",
   "execution_count": 17,
   "metadata": {
    "id": "ErNDkmns_Zct"
   },
   "outputs": [],
   "source": [
    "def replace_wrong_genres(df, column, wrong_genres, correct_genre):\n",
    "    for wrong_genre in wrong_genres:\n",
    "        df[column] = df[column].replace(wrong_genre, correct_genre)\n",
    "    return df\n",
    "\n",
    "F_genres =['hip', 'hop', 'hip-hop']\n",
    "T_genre = 'hiphop'\n"
   ]
  },
  {
   "cell_type": "markdown",
   "metadata": {
    "id": "aDoBJxbA_Zct"
   },
   "source": [
    "Ahora, llama a `replace_wrong_genres()` y pásale tales argumentos para que retire los duplicados implícitos (`hip`, `hop` y `hip-hop`) y los reemplace por `hiphop`:"
   ]
  },
  {
   "cell_type": "code",
   "execution_count": 18,
   "metadata": {
    "id": "YN5i2hpmSo09"
   },
   "outputs": [],
   "source": [
    "# Eliminar duplicados implícitos\n",
    "new_genres = replace_wrong_genres(df, 'genre', F_genres, T_genre)"
   ]
  },
  {
   "cell_type": "code",
   "execution_count": 32,
   "metadata": {},
   "outputs": [
    {
     "name": "stdout",
     "output_type": "stream",
     "text": [
      "['rock' 'pop' 'folk' 'dance' 'rusrap' 'ruspop' 'world' 'electronic'\n",
      " 'unknown' 'alternative' 'children' 'rnb' 'hiphop' 'jazz' 'postrock'\n",
      " 'latin' 'classical' 'metal' 'reggae' 'triphop' 'blues' 'instrumental'\n",
      " 'rusrock' 'dnb' 'türk' 'post' 'country' 'psychedelic' 'conjazz' 'indie'\n",
      " 'posthardcore' 'local' 'avantgarde' 'punk' 'videogame' 'techno' 'house'\n",
      " 'christmas' 'melodic' 'caucasian' 'reggaeton' 'soundtrack' 'singer' 'ska'\n",
      " 'salsa' 'ambient' 'film' 'western' 'rap' 'beats' \"hard'n'heavy\"\n",
      " 'progmetal' 'minimal' 'tropical' 'contemporary' 'new' 'soul' 'holiday'\n",
      " 'german' 'jpop' 'spiritual' 'urban' 'gospel' 'nujazz' 'folkmetal'\n",
      " 'trance' 'miscellaneous' 'anime' 'hardcore' 'progressive' 'korean'\n",
      " 'numetal' 'vocal' 'estrada' 'tango' 'loungeelectronic' 'classicmetal'\n",
      " 'dubstep' 'club' 'deep' 'southern' 'black' 'folkrock' 'fitness' 'french'\n",
      " 'disco' 'religious' 'drum' 'extrememetal' 'türkçe' 'experimental' 'easy'\n",
      " 'metalcore' 'modern' 'argentinetango' 'old' 'swing' 'breaks' 'eurofolk'\n",
      " 'stonerrock' 'industrial' 'funk' 'middle' 'variété' 'other' 'adult'\n",
      " 'christian' 'thrash' 'gothic' 'international' 'muslim' 'relax' 'schlager'\n",
      " 'caribbean' 'nu' 'breakbeat' 'comedy' 'chill' 'newage' 'specialty'\n",
      " 'uzbek' 'k-pop' 'balkan' 'chinese' 'meditative' 'dub' 'power' 'death'\n",
      " 'grime' 'arabesk' 'romance' 'flamenco' 'leftfield' 'european' 'tech'\n",
      " 'newwave' 'dancehall' 'mpb' 'piano' 'top' 'bigroom' 'opera' 'celtic'\n",
      " 'tradjazz' 'acoustic' 'epicmetal' 'hip-hop' 'historisch' 'downbeat'\n",
      " 'downtempo' 'africa' 'audiobook' 'jewish' 'sängerportrait' 'deutschrock'\n",
      " 'eastern' 'action' 'future' 'electropop' 'folklore' 'bollywood'\n",
      " 'marschmusik' 'rnr' 'karaoke' 'indian' 'rancheras' 'afrikaans' 'rhythm'\n",
      " 'sound' 'deutschspr' 'trip' 'lovers' 'choral' 'dancepop' 'retro' 'smooth'\n",
      " 'mexican' 'brazilian' 'ïîï' 'mood' 'surf' 'gangsta' 'inspirational' 'idm'\n",
      " 'ethnic' 'bluegrass' 'broadway' 'animated' 'americana' 'karadeniz'\n",
      " 'rockabilly' 'colombian' 'self' 'hop' 'sertanejo' 'japanese' 'canzone'\n",
      " 'lounge' 'sport' 'ragga' 'traditional' 'gitarre' 'frankreich' 'emo'\n",
      " 'laiko' 'cantopop' 'glitch' 'documentary' 'oceania' 'popeurodance' 'dark'\n",
      " 'vi' 'grunge' 'hardstyle' 'samba' 'garage' 'art' 'folktronica' 'entehno'\n",
      " 'mediterranean' 'chamber' 'cuban' 'taraftar' 'gypsy' 'hardtechno'\n",
      " 'shoegazing' 'bossa' 'latino' 'worldbeat' 'malaysian' 'baile' 'ghazal'\n",
      " 'arabic' 'popelectronic' 'acid' 'kayokyoku' 'neoklassik' 'tribal'\n",
      " 'tanzorchester' 'native' 'independent' 'cantautori' 'handsup' 'punjabi'\n",
      " 'synthpop' 'rave' 'französisch' 'quebecois' 'speech' 'soulful' 'jam'\n",
      " 'ram' 'horror' 'orchestral' 'neue' 'roots' 'slow' 'jungle' 'indipop'\n",
      " 'axé' 'fado' 'showtunes' 'arena' 'irish' 'mandopop' 'forró' 'dirty'\n",
      " 'regional']\n"
     ]
    }
   ],
   "source": [
    "# Validación\n",
    "géneros_únicos = df['genre'].dropna().unique()\n",
    "print(géneros_únicos)"
   ]
  },
  {
   "cell_type": "markdown",
   "metadata": {
    "id": "zQKF16_RG15m"
   },
   "source": [
    "Asegúrate de que los nombres duplicados han sido eliminados. Muestra la lista de valores únicos de la columna `'genre'` una vez más:"
   ]
  },
  {
   "cell_type": "code",
   "execution_count": 20,
   "metadata": {
    "id": "wvixALnFG15m"
   },
   "outputs": [
    {
     "name": "stdout",
     "output_type": "stream",
     "text": [
      "['rock' 'pop' 'folk' 'dance' 'rusrap' 'ruspop' 'world' 'electronic'\n",
      " 'unknown' 'alternative' 'children' 'rnb' 'hiphop' 'jazz' 'postrock'\n",
      " 'latin' 'classical' 'metal' 'reggae' 'triphop' 'blues' 'instrumental'\n",
      " 'rusrock' 'dnb' 'türk' 'post' 'country' 'psychedelic' 'conjazz' 'indie'\n",
      " 'posthardcore' 'local' 'avantgarde' 'punk' 'videogame' 'techno' 'house'\n",
      " 'christmas' 'melodic' 'caucasian' 'reggaeton' 'soundtrack' 'singer' 'ska'\n",
      " 'salsa' 'ambient' 'film' 'western' 'rap' 'beats' \"hard'n'heavy\"\n",
      " 'progmetal' 'minimal' 'tropical' 'contemporary' 'new' 'soul' 'holiday'\n",
      " 'german' 'jpop' 'spiritual' 'urban' 'gospel' 'nujazz' 'folkmetal'\n",
      " 'trance' 'miscellaneous' 'anime' 'hardcore' 'progressive' 'korean'\n",
      " 'numetal' 'vocal' 'estrada' 'tango' 'loungeelectronic' 'classicmetal'\n",
      " 'dubstep' 'club' 'deep' 'southern' 'black' 'folkrock' 'fitness' 'french'\n",
      " 'disco' 'religious' 'drum' 'extrememetal' 'türkçe' 'experimental' 'easy'\n",
      " 'metalcore' 'modern' 'argentinetango' 'old' 'swing' 'breaks' 'eurofolk'\n",
      " 'stonerrock' 'industrial' 'funk' 'middle' 'variété' 'other' 'adult'\n",
      " 'christian' 'thrash' 'gothic' 'international' 'muslim' 'relax' 'schlager'\n",
      " 'caribbean' 'nu' 'breakbeat' 'comedy' 'chill' 'newage' 'specialty'\n",
      " 'uzbek' 'k-pop' 'balkan' 'chinese' 'meditative' 'dub' 'power' 'death'\n",
      " 'grime' 'arabesk' 'romance' 'flamenco' 'leftfield' 'european' 'tech'\n",
      " 'newwave' 'dancehall' 'mpb' 'piano' 'top' 'bigroom' 'opera' 'celtic'\n",
      " 'tradjazz' 'acoustic' 'epicmetal' 'hip-hop' 'historisch' 'downbeat'\n",
      " 'downtempo' 'africa' 'audiobook' 'jewish' 'sängerportrait' 'deutschrock'\n",
      " 'eastern' 'action' 'future' 'electropop' 'folklore' 'bollywood'\n",
      " 'marschmusik' 'rnr' 'karaoke' 'indian' 'rancheras' 'afrikaans' 'rhythm'\n",
      " 'sound' 'deutschspr' 'trip' 'lovers' 'choral' 'dancepop' 'retro' 'smooth'\n",
      " 'mexican' 'brazilian' 'ïîï' 'mood' 'surf' 'gangsta' 'inspirational' 'idm'\n",
      " 'ethnic' 'bluegrass' 'broadway' 'animated' 'americana' 'karadeniz'\n",
      " 'rockabilly' 'colombian' 'self' 'hop' 'sertanejo' 'japanese' 'canzone'\n",
      " 'lounge' 'sport' 'ragga' 'traditional' 'gitarre' 'frankreich' 'emo'\n",
      " 'laiko' 'cantopop' 'glitch' 'documentary' 'oceania' 'popeurodance' 'dark'\n",
      " 'vi' 'grunge' 'hardstyle' 'samba' 'garage' 'art' 'folktronica' 'entehno'\n",
      " 'mediterranean' 'chamber' 'cuban' 'taraftar' 'gypsy' 'hardtechno'\n",
      " 'shoegazing' 'bossa' 'latino' 'worldbeat' 'malaysian' 'baile' 'ghazal'\n",
      " 'arabic' 'popelectronic' 'acid' 'kayokyoku' 'neoklassik' 'tribal'\n",
      " 'tanzorchester' 'native' 'independent' 'cantautori' 'handsup' 'punjabi'\n",
      " 'synthpop' 'rave' 'französisch' 'quebecois' 'speech' 'soulful' 'jam'\n",
      " 'ram' 'horror' 'orchestral' 'neue' 'roots' 'slow' 'jungle' 'indipop'\n",
      " 'axé' 'fado' 'showtunes' 'arena' 'irish' 'mandopop' 'forró' 'dirty'\n",
      " 'regional']\n",
      "\n",
      "268\n"
     ]
    }
   ],
   "source": [
    "# Comprobación de duplicados implícitos\n",
    "print(df['genre'].unique())\n",
    "print()\n",
    "print(df['genre'].nunique())"
   ]
  },
  {
   "cell_type": "markdown",
   "metadata": {
    "id": "ALgNbvF3VtPA"
   },
   "source": [
    "[Volver a Contenidos](#back)"
   ]
  },
  {
   "cell_type": "markdown",
   "metadata": {
    "id": "jz6a9-7HQUDd"
   },
   "source": [
    "# Tus observaciones <a id='data_preprocessing_conclusions'></a>\n",
    "\n",
    "`Describe brevemente lo que has notado al analizar duplicados, cómo abordaste sus eliminaciones y qué resultados obtuviste.`\n",
    "\n",
    "1. Hice una función con un bucle for para iterar sobre los nombres incorrectos y asi \n",
    "reemplazarlos por el valor correcto que estaba guardado en un string.\n",
    "\n",
    "2. luego tuve que llamar a la funcion, darle los respectivos parametros para luego \n",
    "validarlos y comprobar que los duplicados implicitos se hayan reemplazado correctamente.\n"
   ]
  },
  {
   "cell_type": "markdown",
   "metadata": {
    "id": "eK1es74rVujj"
   },
   "source": [
    "[Volver a Contenidos](#back)"
   ]
  },
  {
   "cell_type": "markdown",
   "metadata": {
    "id": "WttZHXH0SqKk"
   },
   "source": [
    "## Etapa 3. Prueba de hipótesis <a id='hypothesis'></a>"
   ]
  },
  {
   "cell_type": "markdown",
   "metadata": {
    "id": "Im936VVi_Zcu"
   },
   "source": [
    "### Hipótesis: comparar el comportamiento del usuario o la usuaria en las dos ciudades <a id='activity'></a>"
   ]
  },
  {
   "cell_type": "markdown",
   "metadata": {
    "id": "nwt_MuaL_Zcu"
   },
   "source": [
    "La hipótesis afirma que existen diferencias en la forma en que los usuarios y las usuarias de Springfield y Shelbyville consumen música. Para comprobar esto, usa los datos de tres días de la semana: lunes, miércoles y viernes.\n",
    "\n",
    "* Agrupa a los usuarios y las usuarias por ciudad.\n",
    "* Compara el número de canciones que cada grupo reprodujo el lunes, el miércoles y el viernes.\n"
   ]
  },
  {
   "cell_type": "markdown",
   "metadata": {
    "id": "8Dw_YMmT_Zcu"
   },
   "source": [
    "Realiza cada cálculo por separado.\n",
    "\n",
    "El primer paso es evaluar la actividad del usuario en cada ciudad. Recuerda las etapas dividir-aplicar-combinar de las que hablamos anteriormente en la lección. Tu objetivo ahora es agrupar los datos por ciudad, aplicar el método apropiado para contar durante la etapa de aplicación y luego encontrar la cantidad de canciones reproducidas en cada grupo especificando la columna para obtener el recuento.\n",
    "\n",
    "A continuación se muestra un ejemplo de cómo debería verse el resultado final:\n",
    "`df.groupby(by='....')['column'].method()`Realiza cada cálculo por separado.\n",
    "\n",
    "Para evaluar la actividad de los usuarios y las usuarias en cada ciudad, agrupa los datos por ciudad y encuentra la cantidad de canciones reproducidas en cada grupo.\n",
    "\n"
   ]
  },
  {
   "cell_type": "code",
   "execution_count": 21,
   "metadata": {
    "id": "0_Qs96oh_Zcu"
   },
   "outputs": [
    {
     "name": "stdout",
     "output_type": "stream",
     "text": [
      "<pandas.core.groupby.generic.DataFrameGroupBy object at 0x7fc9054a0370>\n",
      "\n",
      "city\n",
      "Shelbyville    18512\n",
      "Springfield    42741\n",
      "Name: track, dtype: int64\n"
     ]
    }
   ],
   "source": [
    "# Contar las canciones reproducidas en cada ciudad\n",
    "print(df.groupby(by='city'))\n",
    "print()\n",
    "print(df.groupby('city')['track'].count())"
   ]
  },
  {
   "cell_type": "code",
   "execution_count": 22,
   "metadata": {},
   "outputs": [
    {
     "data": {
      "text/plain": [
       "Index(['user_id', 'track', 'artist', 'genre', 'city', 'time', 'day'], dtype='object')"
      ]
     },
     "execution_count": 22,
     "metadata": {},
     "output_type": "execute_result"
    }
   ],
   "source": [
    "df.columns"
   ]
  },
  {
   "cell_type": "markdown",
   "metadata": {
    "id": "t_Qx-3NewAnK"
   },
   "source": [
    "`Comenta tus observaciones aquí`\n",
    "\n",
    "1. Agrupé a los usuarios por ciudad al mismo tiempo que le aplico el método .count() para encontrar la cantidad de canciones reproducidas en cada grupo.\n",
    "\n",
    "2. Podemos ver que la ciudad de Springfield reproduce un poco mas de el doble de las canciones que Shelbyville."
   ]
  },
  {
   "cell_type": "markdown",
   "metadata": {
    "id": "dzli3w8o_Zcu"
   },
   "source": [
    "Ahora agrupemos los datos por día de la semana y encontremos el número de canciones reproducidas el lunes, miércoles y viernes. Utiliza el mismo método que antes, pero ahora necesitamos una agrupación diferente.\n"
   ]
  },
  {
   "cell_type": "code",
   "execution_count": 23,
   "metadata": {},
   "outputs": [
    {
     "name": "stdout",
     "output_type": "stream",
     "text": [
      "<pandas.core.groupby.generic.DataFrameGroupBy object at 0x7fc9054a0df0>\n",
      "\n",
      "day\n",
      "Friday       21840\n",
      "Monday       21354\n",
      "Wednesday    18059\n",
      "Name: track, dtype: int64\n"
     ]
    }
   ],
   "source": [
    "print(df.groupby(by='day'))\n",
    "print()\n",
    "print(df.groupby('day')['track'].count())"
   ]
  },
  {
   "cell_type": "markdown",
   "metadata": {
    "id": "uZMKjiJz_Zcu"
   },
   "source": [
    "# Calcular las canciones reproducidas en cada uno de los tres días\n",
    "song_play = df.groupby('city')['day'].count()\n",
    "print(song_play)"
   ]
  },
  {
   "cell_type": "markdown",
   "metadata": {
    "id": "cC2tNrlL_Zcu"
   },
   "source": [
    "`Comenta tus observaciones aquí`\n",
    "\n",
    "1. Podemos ver que el lunes y el viernes la cantidad de canciones reporducidas son las mismas, pero el miercoles este numero baja un poco."
   ]
  },
  {
   "cell_type": "markdown",
   "metadata": {
    "id": "POzs8bGa_Zcu"
   },
   "source": [
    "Ya sabes cómo contar entradas agrupándolas por ciudad o día. Ahora necesitas escribir una función que pueda contar entradas según ambos criterios simultáneamente.\n",
    "\n",
    "Crea la función `number_tracks()` para calcular el número de canciones reproducidas en un determinado día **y** ciudad. La función debe aceptar dos parámetros:\n",
    "\n",
    "- `day`: un día de la semana para filtrar. Por ejemplo, `'Monday'` (lunes).\n",
    "- `city`: una ciudad para filtrar. Por ejemplo, `'Springfield'`.\n",
    "\n",
    "Dentro de la función, aplicarás un filtrado consecutivo con indexación lógica.\n",
    "\n",
    "Primero filtra los datos por día y luego filtra la tabla resultante por ciudad.\n",
    "\n",
    "Después de filtrar los datos por dos criterios, cuenta el número de valores de la columna 'user_id' en la tabla resultante. Este recuento representa el número de entradas que estás buscando. Guarda el resultado en una nueva variable y devuélvelo desde la función."
   ]
  },
  {
   "cell_type": "code",
   "execution_count": 24,
   "metadata": {
    "id": "Nz3GdQB1_Zcu"
   },
   "outputs": [],
   "source": [
    "# Declara la función number_tracks() con dos parámetros: day= y city=.\n",
    "def number_tracks(df, day, city):\n",
    "    # Almacena las filas del DataFrame donde el valor en la columna 'day' es igual al parámetro day=\n",
    "    filtered_day = df[df['day'] == day]\n",
    "    # Filtra las filas donde el valor en la columna 'city' es igual al parámetro city=\n",
    "    filtered_city = filtered_day[filtered_day['city'] == city]\n",
    "    # Extrae la columna 'user_id' de la tabla filtrada y aplica el método count()\n",
    "    return filtered_city['user_id'].count()\n",
    "    # Devolve el número de valores de la columna 'user_id'"
   ]
  },
  {
   "cell_type": "markdown",
   "metadata": {
    "id": "ytf7xFrFJQ2r"
   },
   "source": [
    "Llama a `number_tracks()` seis veces, cambiando los valores de los parámetros para que recuperes los datos de ambas ciudades para cada uno de los tres días."
   ]
  },
  {
   "cell_type": "code",
   "execution_count": 25,
   "metadata": {
    "id": "rJcRATNQ_Zcu"
   },
   "outputs": [
    {
     "name": "stdout",
     "output_type": "stream",
     "text": [
      "Springfield el lunes: 15740\n"
     ]
    }
   ],
   "source": [
    "# El número de canciones reproducidas en Springfield el lunes\n",
    "springfield_monday = number_tracks(df, 'Monday', 'Springfield')\n",
    "print(f\"Springfield el lunes: {springfield_monday}\")"
   ]
  },
  {
   "cell_type": "code",
   "execution_count": 26,
   "metadata": {
    "id": "hq_ncZ5T_Zcu"
   },
   "outputs": [
    {
     "name": "stdout",
     "output_type": "stream",
     "text": [
      "Shelbyville el lunes: 5614\n"
     ]
    }
   ],
   "source": [
    "# El número de canciones reproducidas en Shelbyville el lunes\n",
    "shelbyville_monday = number_tracks(df, 'Monday', 'Shelbyville')\n",
    "print(f\"Shelbyville el lunes: {shelbyville_monday}\")"
   ]
  },
  {
   "cell_type": "code",
   "execution_count": 27,
   "metadata": {
    "id": "_NTy2VPU_Zcu"
   },
   "outputs": [
    {
     "name": "stdout",
     "output_type": "stream",
     "text": [
      "Springfield el miércoles: 11056\n"
     ]
    }
   ],
   "source": [
    "# El número de canciones reproducidas en Springfield el miércoles\n",
    "springfield_wednesday = number_tracks(df, 'Wednesday', 'Springfield')\n",
    "print(f\"Springfield el miércoles: {springfield_wednesday}\")"
   ]
  },
  {
   "cell_type": "code",
   "execution_count": 28,
   "metadata": {
    "id": "j2y3TAwo_Zcu"
   },
   "outputs": [
    {
     "name": "stdout",
     "output_type": "stream",
     "text": [
      "Shelbyville el miércoles: 7003\n"
     ]
    }
   ],
   "source": [
    "# El número de canciones reproducidas en Shelbyville el miércoles\n",
    "shelbyville_wednesday = number_tracks(df, 'Wednesday', 'Shelbyville')\n",
    "print(f\"Shelbyville el miércoles: {shelbyville_wednesday}\")"
   ]
  },
  {
   "cell_type": "code",
   "execution_count": 29,
   "metadata": {
    "id": "vYDw5u_K_Zcu"
   },
   "outputs": [
    {
     "name": "stdout",
     "output_type": "stream",
     "text": [
      "Springfield el viernes: 15945\n"
     ]
    }
   ],
   "source": [
    "# El número de canciones reproducidas en Springfield el viernes\n",
    "springfield_friday = number_tracks(df, 'Friday', 'Springfield')\n",
    "print(f\"Springfield el viernes: {springfield_friday}\")"
   ]
  },
  {
   "cell_type": "code",
   "execution_count": 30,
   "metadata": {
    "id": "8_yzFtW3_Zcu"
   },
   "outputs": [
    {
     "name": "stdout",
     "output_type": "stream",
     "text": [
      "Shelbyville el viernes: 5895\n"
     ]
    }
   ],
   "source": [
    "# El número de canciones reproducidas en Shelbyville el viernes\n",
    "shelbyville_friday = number_tracks(df, 'Friday', 'Shelbyville')\n",
    "print(f\"Shelbyville el viernes: {shelbyville_friday}\")"
   ]
  },
  {
   "cell_type": "markdown",
   "metadata": {
    "id": "-EgPIHYu_Zcu"
   },
   "source": [
    "**Conclusiones**\n",
    "\n",
    "`Comenta si la hipótesis es correcta o se debe rechazar. Explica tu razonamiento.`"
   ]
  },
  {
   "cell_type": "markdown",
   "metadata": {},
   "source": [
    "1. Dado que La hipótesis afirma que existen diferencias en la forma en que los usuarios y las usuarias de Springfield y Shelbyville consumen música podemos concluir que esta hipótesis es correcta ya que podemos evidenciar que la ciudad de Springfield reproduce bastante mas musica que Shelbyville con mucha diferencia en cualquier dia de de la semana, por ende si existen diferencias en como los usuarios de cada ciudad consume musica.  "
   ]
  },
  {
   "cell_type": "markdown",
   "metadata": {
    "id": "p7nFQajCVw5B"
   },
   "source": [
    "[Volver a Contenidos](#back)"
   ]
  },
  {
   "cell_type": "markdown",
   "metadata": {
    "id": "ykKQ0N65_Zcv"
   },
   "source": [
    "# Conclusiones <a id='end'></a>"
   ]
  },
  {
   "cell_type": "markdown",
   "metadata": {
    "id": "tjUwbHb3_Zcv"
   },
   "source": [
    "`Resume aquí tus conclusiones sobre la hipótesis.`"
   ]
  },
  {
   "cell_type": "markdown",
   "metadata": {},
   "source": [
    "1. Mis conclusiones es que, finalmente con la hipótesis confirmada podemos seguir haciendo un analisis mas profundo dependiedo de cual es nuestro objetivo con este analisis, ya sea por ejemplo crear un plan para que los ciudadanos de Shelbyville consuman mas musica y se igualen a Springfield etc..."
   ]
  },
  {
   "cell_type": "markdown",
   "metadata": {
    "id": "azLHu64yOIp7"
   },
   "source": [
    "### Nota\n",
    "En proyectos de investigación reales, la prueba de hipótesis estadística es más precisa y cuantitativa. También ten en cuenta que no siempre se pueden sacar conclusiones sobre una ciudad entera a partir de datos de una sola fuente.\n",
    "\n",
    "Aprenderás más sobre la prueba de hipótesis en el sprint de análisis estadístico de datos."
   ]
  },
  {
   "cell_type": "markdown",
   "metadata": {
    "id": "Ju4AHDSgV1FE"
   },
   "source": [
    "[Volver a Contenidos](#back)"
   ]
  }
 ],
 "metadata": {
  "ExecuteTimeLog": [
   {
    "duration": 334,
    "start_time": "2024-11-18T21:05:18.711Z"
   },
   {
    "duration": 2,
    "start_time": "2024-11-18T21:05:26.756Z"
   },
   {
    "duration": 108,
    "start_time": "2024-11-18T21:08:42.547Z"
   },
   {
    "duration": 7,
    "start_time": "2024-11-18T21:09:22.121Z"
   },
   {
    "duration": 21,
    "start_time": "2024-11-18T21:13:24.508Z"
   },
   {
    "duration": 3,
    "start_time": "2024-11-18T21:36:04.276Z"
   },
   {
    "duration": 4,
    "start_time": "2024-11-18T21:40:37.255Z"
   },
   {
    "duration": 614,
    "start_time": "2024-11-18T21:45:25.428Z"
   },
   {
    "duration": 4,
    "start_time": "2024-11-18T21:52:03.140Z"
   },
   {
    "duration": 4,
    "start_time": "2024-11-18T21:56:24.655Z"
   },
   {
    "duration": 8,
    "start_time": "2024-11-18T22:23:23.081Z"
   },
   {
    "duration": 2,
    "start_time": "2024-11-18T22:23:50.278Z"
   },
   {
    "duration": 23,
    "start_time": "2024-11-18T22:25:58.891Z"
   },
   {
    "duration": 21,
    "start_time": "2024-11-18T22:26:23.142Z"
   },
   {
    "duration": 23,
    "start_time": "2024-11-18T22:44:10.853Z"
   },
   {
    "duration": 17,
    "start_time": "2024-11-18T22:44:29.263Z"
   },
   {
    "duration": 13,
    "start_time": "2024-11-18T22:44:38.899Z"
   },
   {
    "duration": 55,
    "start_time": "2024-11-18T22:51:57.235Z"
   },
   {
    "duration": 51,
    "start_time": "2024-11-18T22:54:21.858Z"
   },
   {
    "duration": 41,
    "start_time": "2024-11-18T22:54:52.228Z"
   },
   {
    "duration": 6,
    "start_time": "2024-11-18T23:04:18.542Z"
   },
   {
    "duration": 17,
    "start_time": "2024-11-18T23:07:55.171Z"
   },
   {
    "duration": 6,
    "start_time": "2024-11-18T23:08:12.430Z"
   },
   {
    "duration": 11,
    "start_time": "2024-11-18T23:09:07.022Z"
   },
   {
    "duration": 11,
    "start_time": "2024-11-18T23:11:09.110Z"
   },
   {
    "duration": 5,
    "start_time": "2024-11-19T14:56:08.217Z"
   },
   {
    "duration": 154,
    "start_time": "2024-11-19T14:56:12.719Z"
   },
   {
    "duration": 12,
    "start_time": "2024-11-19T14:56:33.467Z"
   },
   {
    "duration": 11,
    "start_time": "2024-11-19T14:57:24.845Z"
   },
   {
    "duration": 11,
    "start_time": "2024-11-19T14:58:27.390Z"
   },
   {
    "duration": 3,
    "start_time": "2024-11-19T14:59:30.826Z"
   },
   {
    "duration": 5,
    "start_time": "2024-11-19T14:59:37.089Z"
   },
   {
    "duration": 11,
    "start_time": "2024-11-19T14:59:47.312Z"
   },
   {
    "duration": 12,
    "start_time": "2024-11-19T15:00:01.977Z"
   },
   {
    "duration": 13,
    "start_time": "2024-11-19T15:00:14.891Z"
   },
   {
    "duration": 2,
    "start_time": "2024-11-19T15:00:33.304Z"
   },
   {
    "duration": 174,
    "start_time": "2024-11-19T20:29:03.075Z"
   },
   {
    "duration": 12,
    "start_time": "2024-11-19T20:41:02.443Z"
   },
   {
    "duration": 3,
    "start_time": "2024-11-19T20:41:24.554Z"
   },
   {
    "duration": 12,
    "start_time": "2024-11-19T20:49:55.176Z"
   },
   {
    "duration": 12,
    "start_time": "2024-11-19T20:52:13.787Z"
   },
   {
    "duration": 400,
    "start_time": "2024-11-20T05:37:09.654Z"
   },
   {
    "duration": 95,
    "start_time": "2024-11-20T05:37:10.057Z"
   },
   {
    "duration": 6,
    "start_time": "2024-11-20T05:37:10.153Z"
   },
   {
    "duration": 20,
    "start_time": "2024-11-20T05:37:10.161Z"
   },
   {
    "duration": 2,
    "start_time": "2024-11-20T05:37:10.185Z"
   },
   {
    "duration": 24,
    "start_time": "2024-11-20T05:37:10.189Z"
   },
   {
    "duration": 3,
    "start_time": "2024-11-20T05:37:10.215Z"
   },
   {
    "duration": 8,
    "start_time": "2024-11-20T05:37:10.221Z"
   },
   {
    "duration": 3,
    "start_time": "2024-11-20T05:37:10.230Z"
   },
   {
    "duration": 15,
    "start_time": "2024-11-20T05:37:10.235Z"
   },
   {
    "duration": 9,
    "start_time": "2024-11-20T05:37:10.252Z"
   },
   {
    "duration": 52,
    "start_time": "2024-11-20T05:37:10.263Z"
   },
   {
    "duration": 40,
    "start_time": "2024-11-20T05:37:10.317Z"
   },
   {
    "duration": 57,
    "start_time": "2024-11-20T05:37:10.361Z"
   },
   {
    "duration": 37,
    "start_time": "2024-11-20T05:37:10.419Z"
   },
   {
    "duration": 9,
    "start_time": "2024-11-20T05:37:10.458Z"
   },
   {
    "duration": 3,
    "start_time": "2024-11-20T05:37:10.469Z"
   },
   {
    "duration": 204,
    "start_time": "2024-11-20T05:37:10.474Z"
   },
   {
    "duration": 0,
    "start_time": "2024-11-20T05:37:10.680Z"
   },
   {
    "duration": 0,
    "start_time": "2024-11-20T05:37:10.681Z"
   },
   {
    "duration": 0,
    "start_time": "2024-11-20T05:37:10.682Z"
   },
   {
    "duration": 0,
    "start_time": "2024-11-20T05:37:10.683Z"
   },
   {
    "duration": 0,
    "start_time": "2024-11-20T05:37:10.684Z"
   },
   {
    "duration": 0,
    "start_time": "2024-11-20T05:37:10.685Z"
   },
   {
    "duration": 0,
    "start_time": "2024-11-20T05:37:10.687Z"
   },
   {
    "duration": 0,
    "start_time": "2024-11-20T05:37:10.689Z"
   },
   {
    "duration": 0,
    "start_time": "2024-11-20T05:37:10.690Z"
   },
   {
    "duration": 0,
    "start_time": "2024-11-20T05:37:10.692Z"
   },
   {
    "duration": 156,
    "start_time": "2024-11-20T16:03:20.933Z"
   },
   {
    "duration": 11,
    "start_time": "2024-11-20T16:04:17.105Z"
   },
   {
    "duration": 11,
    "start_time": "2024-11-20T16:04:20.847Z"
   },
   {
    "duration": 163,
    "start_time": "2024-11-21T20:30:39.268Z"
   },
   {
    "duration": 12,
    "start_time": "2024-11-21T20:31:04.284Z"
   },
   {
    "duration": 16,
    "start_time": "2024-11-21T21:01:26.965Z"
   },
   {
    "duration": 12,
    "start_time": "2024-11-21T21:01:41.866Z"
   },
   {
    "duration": 13,
    "start_time": "2024-11-21T21:01:50.230Z"
   },
   {
    "duration": 12,
    "start_time": "2024-11-21T21:01:59.366Z"
   },
   {
    "duration": 3,
    "start_time": "2024-11-21T22:38:42.474Z"
   },
   {
    "duration": 14,
    "start_time": "2024-11-21T22:38:50.684Z"
   },
   {
    "duration": 47,
    "start_time": "2024-11-21T22:39:55.522Z"
   },
   {
    "duration": 297,
    "start_time": "2024-11-22T15:15:39.162Z"
   },
   {
    "duration": 107,
    "start_time": "2024-11-22T15:15:39.461Z"
   },
   {
    "duration": 12,
    "start_time": "2024-11-22T15:15:39.570Z"
   },
   {
    "duration": 29,
    "start_time": "2024-11-22T15:15:39.585Z"
   },
   {
    "duration": 6,
    "start_time": "2024-11-22T15:15:39.616Z"
   },
   {
    "duration": 0,
    "start_time": "2024-11-22T15:15:39.624Z"
   },
   {
    "duration": 0,
    "start_time": "2024-11-22T15:15:39.626Z"
   },
   {
    "duration": 0,
    "start_time": "2024-11-22T15:15:39.628Z"
   },
   {
    "duration": 0,
    "start_time": "2024-11-22T15:15:39.629Z"
   },
   {
    "duration": 0,
    "start_time": "2024-11-22T15:15:39.630Z"
   },
   {
    "duration": 0,
    "start_time": "2024-11-22T15:15:39.632Z"
   },
   {
    "duration": 0,
    "start_time": "2024-11-22T15:15:39.633Z"
   },
   {
    "duration": 0,
    "start_time": "2024-11-22T15:15:39.634Z"
   },
   {
    "duration": 0,
    "start_time": "2024-11-22T15:15:39.635Z"
   },
   {
    "duration": 0,
    "start_time": "2024-11-22T15:15:39.636Z"
   },
   {
    "duration": 0,
    "start_time": "2024-11-22T15:15:39.637Z"
   },
   {
    "duration": 0,
    "start_time": "2024-11-22T15:15:39.638Z"
   },
   {
    "duration": 0,
    "start_time": "2024-11-22T15:15:39.639Z"
   },
   {
    "duration": 0,
    "start_time": "2024-11-22T15:15:39.640Z"
   },
   {
    "duration": 0,
    "start_time": "2024-11-22T15:15:39.641Z"
   },
   {
    "duration": 0,
    "start_time": "2024-11-22T15:15:39.642Z"
   },
   {
    "duration": 0,
    "start_time": "2024-11-22T15:15:39.643Z"
   },
   {
    "duration": 0,
    "start_time": "2024-11-22T15:15:39.644Z"
   },
   {
    "duration": 0,
    "start_time": "2024-11-22T15:15:39.645Z"
   },
   {
    "duration": 0,
    "start_time": "2024-11-22T15:15:39.646Z"
   },
   {
    "duration": 0,
    "start_time": "2024-11-22T15:15:39.648Z"
   },
   {
    "duration": 0,
    "start_time": "2024-11-22T15:15:39.649Z"
   },
   {
    "duration": 0,
    "start_time": "2024-11-22T15:15:39.650Z"
   },
   {
    "duration": 0,
    "start_time": "2024-11-22T15:15:39.651Z"
   },
   {
    "duration": 0,
    "start_time": "2024-11-22T15:15:39.652Z"
   },
   {
    "duration": 0,
    "start_time": "2024-11-22T15:15:39.653Z"
   },
   {
    "duration": 3,
    "start_time": "2024-11-22T15:17:50.569Z"
   },
   {
    "duration": 4,
    "start_time": "2024-11-22T15:17:56.176Z"
   },
   {
    "duration": 3,
    "start_time": "2024-11-22T15:18:03.460Z"
   },
   {
    "duration": 8,
    "start_time": "2024-11-22T15:18:07.644Z"
   },
   {
    "duration": 3,
    "start_time": "2024-11-22T15:18:11.807Z"
   },
   {
    "duration": 16,
    "start_time": "2024-11-22T15:18:16.563Z"
   },
   {
    "duration": 10,
    "start_time": "2024-11-22T15:18:22.741Z"
   },
   {
    "duration": 17,
    "start_time": "2024-11-22T15:19:03.092Z"
   },
   {
    "duration": 42,
    "start_time": "2024-11-22T15:19:13.668Z"
   },
   {
    "duration": 49,
    "start_time": "2024-11-22T15:19:18.293Z"
   },
   {
    "duration": 39,
    "start_time": "2024-11-22T15:19:22.049Z"
   },
   {
    "duration": 11,
    "start_time": "2024-11-22T15:19:46.428Z"
   },
   {
    "duration": 3,
    "start_time": "2024-11-22T15:19:59.347Z"
   },
   {
    "duration": 444,
    "start_time": "2024-11-22T15:20:05.998Z"
   },
   {
    "duration": 3,
    "start_time": "2024-11-22T15:22:54.850Z"
   },
   {
    "duration": 36,
    "start_time": "2024-11-22T15:22:59.509Z"
   },
   {
    "duration": 7,
    "start_time": "2024-11-22T15:23:27.747Z"
   },
   {
    "duration": 10,
    "start_time": "2024-11-22T15:23:33.143Z"
   },
   {
    "duration": 16,
    "start_time": "2024-11-22T15:27:02.909Z"
   },
   {
    "duration": 11,
    "start_time": "2024-11-22T15:27:14.666Z"
   },
   {
    "duration": 22,
    "start_time": "2024-11-22T15:27:59.759Z"
   },
   {
    "duration": 3,
    "start_time": "2024-11-22T15:32:48.502Z"
   },
   {
    "duration": 21,
    "start_time": "2024-11-22T15:33:10.082Z"
   },
   {
    "duration": 164,
    "start_time": "2024-11-23T16:25:47.976Z"
   },
   {
    "duration": 316,
    "start_time": "2024-11-23T16:25:52.765Z"
   },
   {
    "duration": 118,
    "start_time": "2024-11-23T16:25:53.083Z"
   },
   {
    "duration": 13,
    "start_time": "2024-11-23T16:25:53.203Z"
   },
   {
    "duration": 25,
    "start_time": "2024-11-23T16:25:53.217Z"
   },
   {
    "duration": 6,
    "start_time": "2024-11-23T16:25:53.246Z"
   },
   {
    "duration": 0,
    "start_time": "2024-11-23T16:25:53.255Z"
   },
   {
    "duration": 0,
    "start_time": "2024-11-23T16:25:53.256Z"
   },
   {
    "duration": 0,
    "start_time": "2024-11-23T16:25:53.258Z"
   },
   {
    "duration": 0,
    "start_time": "2024-11-23T16:25:53.259Z"
   },
   {
    "duration": 1,
    "start_time": "2024-11-23T16:25:53.259Z"
   },
   {
    "duration": 0,
    "start_time": "2024-11-23T16:25:53.261Z"
   },
   {
    "duration": 0,
    "start_time": "2024-11-23T16:25:53.262Z"
   },
   {
    "duration": 0,
    "start_time": "2024-11-23T16:25:53.263Z"
   },
   {
    "duration": 0,
    "start_time": "2024-11-23T16:25:53.264Z"
   },
   {
    "duration": 0,
    "start_time": "2024-11-23T16:25:53.265Z"
   },
   {
    "duration": 0,
    "start_time": "2024-11-23T16:25:53.266Z"
   },
   {
    "duration": 0,
    "start_time": "2024-11-23T16:25:53.267Z"
   },
   {
    "duration": 0,
    "start_time": "2024-11-23T16:25:53.268Z"
   },
   {
    "duration": 0,
    "start_time": "2024-11-23T16:25:53.270Z"
   },
   {
    "duration": 0,
    "start_time": "2024-11-23T16:25:53.271Z"
   },
   {
    "duration": 0,
    "start_time": "2024-11-23T16:25:53.272Z"
   },
   {
    "duration": 0,
    "start_time": "2024-11-23T16:25:53.273Z"
   },
   {
    "duration": 0,
    "start_time": "2024-11-23T16:25:53.274Z"
   },
   {
    "duration": 0,
    "start_time": "2024-11-23T16:25:53.277Z"
   },
   {
    "duration": 0,
    "start_time": "2024-11-23T16:25:53.278Z"
   },
   {
    "duration": 0,
    "start_time": "2024-11-23T16:25:53.279Z"
   },
   {
    "duration": 0,
    "start_time": "2024-11-23T16:25:53.280Z"
   },
   {
    "duration": 0,
    "start_time": "2024-11-23T16:25:53.282Z"
   },
   {
    "duration": 0,
    "start_time": "2024-11-23T16:25:53.331Z"
   },
   {
    "duration": 0,
    "start_time": "2024-11-23T16:25:53.332Z"
   },
   {
    "duration": 0,
    "start_time": "2024-11-23T16:25:53.334Z"
   },
   {
    "duration": 377,
    "start_time": "2024-11-23T16:26:05.924Z"
   },
   {
    "duration": 42,
    "start_time": "2024-11-23T16:26:22.375Z"
   },
   {
    "duration": 2,
    "start_time": "2024-11-23T16:26:36.119Z"
   },
   {
    "duration": 92,
    "start_time": "2024-11-23T16:26:39.122Z"
   },
   {
    "duration": 9,
    "start_time": "2024-11-23T16:26:41.557Z"
   },
   {
    "duration": 20,
    "start_time": "2024-11-23T16:26:51.653Z"
   },
   {
    "duration": 2,
    "start_time": "2024-11-23T16:26:57.988Z"
   },
   {
    "duration": 4,
    "start_time": "2024-11-23T16:27:00.635Z"
   },
   {
    "duration": 3,
    "start_time": "2024-11-23T16:27:03.355Z"
   },
   {
    "duration": 8,
    "start_time": "2024-11-23T16:27:05.972Z"
   },
   {
    "duration": 3,
    "start_time": "2024-11-23T16:27:10.252Z"
   },
   {
    "duration": 16,
    "start_time": "2024-11-23T16:27:13.376Z"
   },
   {
    "duration": 10,
    "start_time": "2024-11-23T16:27:16.818Z"
   },
   {
    "duration": 16,
    "start_time": "2024-11-23T16:27:20.057Z"
   },
   {
    "duration": 46,
    "start_time": "2024-11-23T16:27:24.181Z"
   },
   {
    "duration": 51,
    "start_time": "2024-11-23T16:27:28.931Z"
   },
   {
    "duration": 40,
    "start_time": "2024-11-23T16:27:32.085Z"
   },
   {
    "duration": 11,
    "start_time": "2024-11-23T16:27:35.672Z"
   },
   {
    "duration": 3,
    "start_time": "2024-11-23T16:27:41.662Z"
   },
   {
    "duration": 125,
    "start_time": "2024-11-23T16:27:55.438Z"
   },
   {
    "duration": 23,
    "start_time": "2024-11-23T16:28:08.359Z"
   },
   {
    "duration": 9,
    "start_time": "2024-11-23T16:29:02.080Z"
   },
   {
    "duration": 27,
    "start_time": "2024-11-23T16:29:32.164Z"
   },
   {
    "duration": 10,
    "start_time": "2024-11-23T16:32:45.808Z"
   },
   {
    "duration": 4,
    "start_time": "2024-11-23T16:40:39.966Z"
   },
   {
    "duration": 22,
    "start_time": "2024-11-23T16:44:00.065Z"
   },
   {
    "duration": 9,
    "start_time": "2024-11-23T16:44:52.922Z"
   },
   {
    "duration": 9,
    "start_time": "2024-11-23T16:46:59.282Z"
   },
   {
    "duration": 9,
    "start_time": "2024-11-23T16:47:24.297Z"
   },
   {
    "duration": 10,
    "start_time": "2024-11-23T16:49:58.598Z"
   },
   {
    "duration": 3,
    "start_time": "2024-11-23T17:40:28.236Z"
   },
   {
    "duration": 14,
    "start_time": "2024-11-23T17:40:33.665Z"
   },
   {
    "duration": 12,
    "start_time": "2024-11-23T17:40:38.280Z"
   },
   {
    "duration": 12,
    "start_time": "2024-11-23T17:40:41.563Z"
   },
   {
    "duration": 11,
    "start_time": "2024-11-23T17:40:44.900Z"
   },
   {
    "duration": 15,
    "start_time": "2024-11-23T17:40:45.864Z"
   },
   {
    "duration": 12,
    "start_time": "2024-11-23T17:40:46.896Z"
   },
   {
    "duration": 288,
    "start_time": "2024-11-24T00:26:52.501Z"
   },
   {
    "duration": 117,
    "start_time": "2024-11-24T00:26:52.791Z"
   },
   {
    "duration": 12,
    "start_time": "2024-11-24T00:26:52.909Z"
   },
   {
    "duration": 25,
    "start_time": "2024-11-24T00:26:52.924Z"
   },
   {
    "duration": 3,
    "start_time": "2024-11-24T00:26:52.951Z"
   },
   {
    "duration": 5,
    "start_time": "2024-11-24T00:26:52.955Z"
   },
   {
    "duration": 7,
    "start_time": "2024-11-24T00:26:52.962Z"
   },
   {
    "duration": 8,
    "start_time": "2024-11-24T00:26:52.970Z"
   },
   {
    "duration": 3,
    "start_time": "2024-11-24T00:26:52.980Z"
   },
   {
    "duration": 51,
    "start_time": "2024-11-24T00:26:52.987Z"
   },
   {
    "duration": 11,
    "start_time": "2024-11-24T00:26:53.040Z"
   },
   {
    "duration": 15,
    "start_time": "2024-11-24T00:26:53.053Z"
   },
   {
    "duration": 65,
    "start_time": "2024-11-24T00:26:53.070Z"
   },
   {
    "duration": 50,
    "start_time": "2024-11-24T00:26:53.137Z"
   },
   {
    "duration": 50,
    "start_time": "2024-11-24T00:26:53.189Z"
   },
   {
    "duration": 10,
    "start_time": "2024-11-24T00:26:53.242Z"
   },
   {
    "duration": 3,
    "start_time": "2024-11-24T00:26:53.254Z"
   },
   {
    "duration": 497,
    "start_time": "2024-11-24T00:26:53.259Z"
   },
   {
    "duration": 0,
    "start_time": "2024-11-24T00:26:53.759Z"
   },
   {
    "duration": 0,
    "start_time": "2024-11-24T00:26:53.760Z"
   },
   {
    "duration": 0,
    "start_time": "2024-11-24T00:26:53.761Z"
   },
   {
    "duration": 0,
    "start_time": "2024-11-24T00:26:53.761Z"
   },
   {
    "duration": 0,
    "start_time": "2024-11-24T00:26:53.762Z"
   },
   {
    "duration": 0,
    "start_time": "2024-11-24T00:26:53.764Z"
   },
   {
    "duration": 0,
    "start_time": "2024-11-24T00:26:53.765Z"
   },
   {
    "duration": 0,
    "start_time": "2024-11-24T00:26:53.766Z"
   },
   {
    "duration": 0,
    "start_time": "2024-11-24T00:26:53.767Z"
   },
   {
    "duration": 0,
    "start_time": "2024-11-24T00:26:53.768Z"
   },
   {
    "duration": 0,
    "start_time": "2024-11-24T00:26:53.769Z"
   },
   {
    "duration": 0,
    "start_time": "2024-11-24T00:26:53.771Z"
   },
   {
    "duration": 0,
    "start_time": "2024-11-24T00:26:53.773Z"
   },
   {
    "duration": 8,
    "start_time": "2024-11-25T20:51:31.625Z"
   },
   {
    "duration": 335,
    "start_time": "2024-11-25T20:51:36.635Z"
   },
   {
    "duration": 108,
    "start_time": "2024-11-25T20:51:36.972Z"
   },
   {
    "duration": 16,
    "start_time": "2024-11-25T20:51:37.082Z"
   },
   {
    "duration": 31,
    "start_time": "2024-11-25T20:51:37.102Z"
   },
   {
    "duration": 3,
    "start_time": "2024-11-25T20:51:37.138Z"
   },
   {
    "duration": 4,
    "start_time": "2024-11-25T20:51:37.143Z"
   },
   {
    "duration": 3,
    "start_time": "2024-11-25T20:51:37.149Z"
   },
   {
    "duration": 7,
    "start_time": "2024-11-25T20:51:37.154Z"
   },
   {
    "duration": 3,
    "start_time": "2024-11-25T20:51:37.162Z"
   },
   {
    "duration": 15,
    "start_time": "2024-11-25T20:51:37.167Z"
   },
   {
    "duration": 45,
    "start_time": "2024-11-25T20:51:37.184Z"
   },
   {
    "duration": 16,
    "start_time": "2024-11-25T20:51:37.231Z"
   },
   {
    "duration": 42,
    "start_time": "2024-11-25T20:51:37.248Z"
   },
   {
    "duration": 66,
    "start_time": "2024-11-25T20:51:37.293Z"
   },
   {
    "duration": 39,
    "start_time": "2024-11-25T20:51:37.362Z"
   },
   {
    "duration": 25,
    "start_time": "2024-11-25T20:51:37.403Z"
   },
   {
    "duration": 4,
    "start_time": "2024-11-25T20:51:37.429Z"
   },
   {
    "duration": 0,
    "start_time": "2024-11-25T20:51:37.435Z"
   },
   {
    "duration": 0,
    "start_time": "2024-11-25T20:51:37.436Z"
   },
   {
    "duration": 0,
    "start_time": "2024-11-25T20:51:37.438Z"
   },
   {
    "duration": 0,
    "start_time": "2024-11-25T20:51:37.439Z"
   },
   {
    "duration": 0,
    "start_time": "2024-11-25T20:51:37.440Z"
   },
   {
    "duration": 0,
    "start_time": "2024-11-25T20:51:37.442Z"
   },
   {
    "duration": 0,
    "start_time": "2024-11-25T20:51:37.443Z"
   },
   {
    "duration": 0,
    "start_time": "2024-11-25T20:51:37.445Z"
   },
   {
    "duration": 0,
    "start_time": "2024-11-25T20:51:37.446Z"
   },
   {
    "duration": 0,
    "start_time": "2024-11-25T20:51:37.447Z"
   },
   {
    "duration": 0,
    "start_time": "2024-11-25T20:51:37.449Z"
   },
   {
    "duration": 0,
    "start_time": "2024-11-25T20:51:37.450Z"
   },
   {
    "duration": 0,
    "start_time": "2024-11-25T20:51:37.452Z"
   },
   {
    "duration": 1,
    "start_time": "2024-11-25T20:51:37.452Z"
   },
   {
    "duration": 4,
    "start_time": "2024-11-25T20:51:48.687Z"
   },
   {
    "duration": 2,
    "start_time": "2024-11-25T20:52:12.343Z"
   },
   {
    "duration": 88,
    "start_time": "2024-11-25T20:52:19.987Z"
   },
   {
    "duration": 9,
    "start_time": "2024-11-25T20:52:25.168Z"
   },
   {
    "duration": 540,
    "start_time": "2024-11-25T20:52:49.550Z"
   },
   {
    "duration": 3,
    "start_time": "2024-11-25T20:52:59.467Z"
   },
   {
    "duration": 17,
    "start_time": "2024-11-25T20:53:02.988Z"
   },
   {
    "duration": 43,
    "start_time": "2024-11-25T20:53:27.920Z"
   },
   {
    "duration": 4,
    "start_time": "2024-11-25T20:54:15.357Z"
   },
   {
    "duration": 6,
    "start_time": "2024-11-25T21:00:47.505Z"
   },
   {
    "duration": 3,
    "start_time": "2024-11-25T21:01:01.334Z"
   },
   {
    "duration": 4,
    "start_time": "2024-11-25T21:04:07.674Z"
   },
   {
    "duration": 317,
    "start_time": "2024-11-26T15:42:46.944Z"
   },
   {
    "duration": 106,
    "start_time": "2024-11-26T15:42:47.263Z"
   },
   {
    "duration": 12,
    "start_time": "2024-11-26T15:42:47.371Z"
   },
   {
    "duration": 19,
    "start_time": "2024-11-26T15:42:47.385Z"
   },
   {
    "duration": 3,
    "start_time": "2024-11-26T15:42:47.407Z"
   },
   {
    "duration": 3,
    "start_time": "2024-11-26T15:42:47.423Z"
   },
   {
    "duration": 4,
    "start_time": "2024-11-26T15:42:47.428Z"
   },
   {
    "duration": 7,
    "start_time": "2024-11-26T15:42:47.433Z"
   },
   {
    "duration": 3,
    "start_time": "2024-11-26T15:42:47.442Z"
   },
   {
    "duration": 16,
    "start_time": "2024-11-26T15:42:47.446Z"
   },
   {
    "duration": 8,
    "start_time": "2024-11-26T15:42:47.466Z"
   },
   {
    "duration": 48,
    "start_time": "2024-11-26T15:42:47.476Z"
   },
   {
    "duration": 50,
    "start_time": "2024-11-26T15:42:47.526Z"
   },
   {
    "duration": 64,
    "start_time": "2024-11-26T15:42:47.581Z"
   },
   {
    "duration": 37,
    "start_time": "2024-11-26T15:42:47.646Z"
   },
   {
    "duration": 12,
    "start_time": "2024-11-26T15:42:47.685Z"
   },
   {
    "duration": 6,
    "start_time": "2024-11-26T15:42:47.698Z"
   },
   {
    "duration": 0,
    "start_time": "2024-11-26T15:42:47.724Z"
   },
   {
    "duration": 0,
    "start_time": "2024-11-26T15:42:47.726Z"
   },
   {
    "duration": 0,
    "start_time": "2024-11-26T15:42:47.727Z"
   },
   {
    "duration": 0,
    "start_time": "2024-11-26T15:42:47.729Z"
   },
   {
    "duration": 0,
    "start_time": "2024-11-26T15:42:47.730Z"
   },
   {
    "duration": 0,
    "start_time": "2024-11-26T15:42:47.731Z"
   },
   {
    "duration": 0,
    "start_time": "2024-11-26T15:42:47.736Z"
   },
   {
    "duration": 0,
    "start_time": "2024-11-26T15:42:47.737Z"
   },
   {
    "duration": 0,
    "start_time": "2024-11-26T15:42:47.738Z"
   },
   {
    "duration": 0,
    "start_time": "2024-11-26T15:42:47.740Z"
   },
   {
    "duration": 1,
    "start_time": "2024-11-26T15:42:47.740Z"
   },
   {
    "duration": 0,
    "start_time": "2024-11-26T15:42:47.741Z"
   },
   {
    "duration": 0,
    "start_time": "2024-11-26T15:42:47.742Z"
   },
   {
    "duration": 0,
    "start_time": "2024-11-26T15:42:47.743Z"
   },
   {
    "duration": 3,
    "start_time": "2024-11-26T15:45:27.165Z"
   },
   {
    "duration": 6,
    "start_time": "2024-11-27T05:04:01.493Z"
   },
   {
    "duration": 501,
    "start_time": "2024-11-27T17:40:52.664Z"
   },
   {
    "duration": 119,
    "start_time": "2024-11-27T17:40:53.167Z"
   },
   {
    "duration": 12,
    "start_time": "2024-11-27T17:40:53.288Z"
   },
   {
    "duration": 26,
    "start_time": "2024-11-27T17:40:53.302Z"
   },
   {
    "duration": 3,
    "start_time": "2024-11-27T17:40:53.330Z"
   },
   {
    "duration": 4,
    "start_time": "2024-11-27T17:40:53.334Z"
   },
   {
    "duration": 4,
    "start_time": "2024-11-27T17:40:53.340Z"
   },
   {
    "duration": 7,
    "start_time": "2024-11-27T17:40:53.346Z"
   },
   {
    "duration": 3,
    "start_time": "2024-11-27T17:40:53.355Z"
   },
   {
    "duration": 52,
    "start_time": "2024-11-27T17:40:53.360Z"
   },
   {
    "duration": 11,
    "start_time": "2024-11-27T17:40:53.413Z"
   },
   {
    "duration": 16,
    "start_time": "2024-11-27T17:40:53.426Z"
   },
   {
    "duration": 45,
    "start_time": "2024-11-27T17:40:53.443Z"
   },
   {
    "duration": 51,
    "start_time": "2024-11-27T17:40:53.512Z"
   },
   {
    "duration": 52,
    "start_time": "2024-11-27T17:40:53.566Z"
   },
   {
    "duration": 10,
    "start_time": "2024-11-27T17:40:53.620Z"
   },
   {
    "duration": 3,
    "start_time": "2024-11-27T17:40:53.631Z"
   },
   {
    "duration": 5,
    "start_time": "2024-11-27T17:40:53.635Z"
   },
   {
    "duration": 8,
    "start_time": "2024-11-27T17:40:53.641Z"
   },
   {
    "duration": 10,
    "start_time": "2024-11-27T17:40:53.651Z"
   },
   {
    "duration": 9,
    "start_time": "2024-11-27T17:40:53.662Z"
   },
   {
    "duration": 41,
    "start_time": "2024-11-27T17:40:53.672Z"
   },
   {
    "duration": 10,
    "start_time": "2024-11-27T17:40:53.715Z"
   },
   {
    "duration": 3,
    "start_time": "2024-11-27T17:40:53.726Z"
   },
   {
    "duration": 13,
    "start_time": "2024-11-27T17:40:53.730Z"
   },
   {
    "duration": 10,
    "start_time": "2024-11-27T17:40:53.745Z"
   },
   {
    "duration": 10,
    "start_time": "2024-11-27T17:40:53.757Z"
   },
   {
    "duration": 10,
    "start_time": "2024-11-27T17:40:53.769Z"
   },
   {
    "duration": 12,
    "start_time": "2024-11-27T17:40:53.813Z"
   },
   {
    "duration": 11,
    "start_time": "2024-11-27T17:40:53.826Z"
   },
   {
    "duration": 3,
    "start_time": "2024-11-27T17:45:16.158Z"
   },
   {
    "duration": 8,
    "start_time": "2024-11-27T17:45:17.326Z"
   }
  ],
  "colab": {
   "collapsed_sections": [
    "E0vqbgi9ay0H",
    "VUC88oWjTJw2"
   ],
   "provenance": []
  },
  "kernelspec": {
   "display_name": "Python 3",
   "language": "python",
   "name": "python3"
  },
  "language_info": {
   "codemirror_mode": {
    "name": "ipython",
    "version": 3
   },
   "file_extension": ".py",
   "mimetype": "text/x-python",
   "name": "python",
   "nbconvert_exporter": "python",
   "pygments_lexer": "ipython3",
   "version": "3.13.1"
  },
  "toc": {
   "base_numbering": 1,
   "nav_menu": {},
   "number_sections": true,
   "sideBar": true,
   "skip_h1_title": true,
   "title_cell": "Table of Contents",
   "title_sidebar": "Contents",
   "toc_cell": false,
   "toc_position": {},
   "toc_section_display": true,
   "toc_window_display": false
  }
 },
 "nbformat": 4,
 "nbformat_minor": 1
}
